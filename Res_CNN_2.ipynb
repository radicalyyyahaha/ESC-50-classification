{
 "cells": [
  {
   "cell_type": "code",
   "execution_count": 1,
   "metadata": {
    "tags": []
   },
   "outputs": [],
   "source": [
    "import os\n",
    "import librosa\n",
    "import numpy as np\n",
    "import torch\n",
    "import torch.nn as nn\n",
    "import torch.optim as optim\n",
    "from torch.utils.data import Dataset, DataLoader\n",
    "import torch.nn.functional as F"
   ]
  },
  {
   "cell_type": "code",
   "execution_count": 2,
   "metadata": {
    "tags": []
   },
   "outputs": [],
   "source": [
    "class ResidualBlock(nn.Module):\n",
    "    def __init__(self, in_channels, out_channels, stride=1):\n",
    "        super(ResidualBlock, self).__init__()\n",
    "        self.conv1 = nn.Conv2d(in_channels, out_channels, kernel_size=3, stride=stride, padding=1)\n",
    "        self.bn1 = nn.BatchNorm2d(out_channels)\n",
    "        self.relu = nn.ReLU(inplace=True)\n",
    "        self.conv2 = nn.Conv2d(out_channels, out_channels, kernel_size=3, stride=1, padding=1)\n",
    "        self.bn2 = nn.BatchNorm2d(out_channels)\n",
    "        self.downsample = nn.Sequential(\n",
    "            nn.Conv2d(in_channels, out_channels, kernel_size=1, stride=stride),\n",
    "            nn.BatchNorm2d(out_channels)\n",
    "        ) if stride != 1 or in_channels != out_channels else None\n",
    "\n",
    "    def forward(self, x):\n",
    "        residual = x\n",
    "        out = self.conv1(x)\n",
    "        out = self.bn1(out)\n",
    "        out = self.relu(out)\n",
    "        out = self.conv2(out)\n",
    "        out = self.bn2(out)\n",
    "        if self.downsample is not None:\n",
    "            residual = self.downsample(x)\n",
    "        out += residual\n",
    "        out = self.relu(out)\n",
    "        return out\n"
   ]
  },
  {
   "cell_type": "code",
   "execution_count": 3,
   "metadata": {
    "tags": []
   },
   "outputs": [
    {
     "name": "stdout",
     "output_type": "stream",
     "text": [
      "Output size: torch.Size([32, 50])\n"
     ]
    }
   ],
   "source": [
    "class AudioCNN(nn.Module):\n",
    "    def __init__(self, num_classes, conv1_channels=128, conv2_channels=256, fc1_out_features=256, num_residual_blocks=3):\n",
    "        super(AudioCNN, self).__init__()\n",
    "        self.conv1 = ResidualBlock(1, conv1_channels)\n",
    "        self.conv2 = ResidualBlock(conv1_channels, conv2_channels)\n",
    "        # Add more residual blocks\n",
    "        self.res_blocks = nn.ModuleList([ResidualBlock(conv2_channels, conv2_channels) for _ in range(num_residual_blocks)])\n",
    "        self.pool = nn.AdaptiveAvgPool2d((1, 1))\n",
    "        self.fc1 = nn.Linear(conv2_channels, fc1_out_features)\n",
    "        self.fc2 = nn.Linear(fc1_out_features, num_classes)\n",
    "\n",
    "    def forward(self, x):\n",
    "        x = self.conv1(x)\n",
    "        x = self.conv2(x)\n",
    "        for block in self.res_blocks:\n",
    "            x = block(x)\n",
    "        x = self.pool(x)\n",
    "        x = x.view(x.size(0), -1)\n",
    "        x = F.relu(self.fc1(x))\n",
    "        x = self.fc2(x)\n",
    "        return x\n",
    "\n",
    "\n",
    "model = AudioCNN(\n",
    "    num_classes=50,\n",
    "    conv1_channels=128,\n",
    "    conv2_channels=256,\n",
    "    fc1_out_features=256,\n",
    "    num_residual_blocks=3 \n",
    ")\n",
    "\n",
    "device = torch.device(\"cuda\" if torch.cuda.is_available() else \"cpu\")\n",
    "model.to(device)\n",
    "\n",
    "dummy_input = torch.randn(32, 1, 44, 14)\n",
    "\n",
    "output = model(dummy_input.to(device))\n",
    "print(\"Output size:\", output.size())\n"
   ]
  },
  {
   "cell_type": "code",
   "execution_count": 4,
   "metadata": {
    "tags": []
   },
   "outputs": [],
   "source": [
    "learning_rate = 0.001\n",
    "batch_size = 16\n",
    "num_epochs = 35"
   ]
  },
  {
   "cell_type": "code",
   "execution_count": 5,
   "metadata": {
    "tags": []
   },
   "outputs": [],
   "source": [
    "class ESC50Dataset(Dataset):\n",
    "    def __init__(self, data, labels):\n",
    "        self.data = data\n",
    "        self.labels = labels\n",
    "\n",
    "    def __len__(self):\n",
    "        return len(self.data)\n",
    "\n",
    "    def __getitem__(self, idx):\n",
    "        mel_spec = torch.tensor(self.data[idx], dtype=torch.float32).unsqueeze(0)  \n",
    "        label = torch.tensor(self.labels[idx], dtype=torch.long)\n",
    "        return mel_spec, label"
   ]
  },
  {
   "cell_type": "code",
   "execution_count": 6,
   "metadata": {
    "tags": []
   },
   "outputs": [],
   "source": [
    "def load_esc50_data(base_path):\n",
    "    data = []\n",
    "    labels = []\n",
    "\n",
    "    for root, dirs, files in os.walk(base_path):\n",
    "        for file in files:\n",
    "            if file.endswith(\".wav\"):\n",
    "                file_path = os.path.join(root, file)\n",
    "                label = int(file.split(\"-\")[-1].split(\".\")[0])\n",
    "                audio_data, _ = librosa.load(file_path, sr=None)\n",
    "                mel_spec = librosa.feature.melspectrogram(y=audio_data, sr=44100)\n",
    "                mel_spec_db = librosa.power_to_db(mel_spec, ref=np.max)\n",
    "                data.append(mel_spec_db)\n",
    "                labels.append(label)\n",
    "\n",
    "    return np.array(data), np.array(labels)"
   ]
  },
  {
   "cell_type": "code",
   "execution_count": 7,
   "metadata": {
    "tags": []
   },
   "outputs": [],
   "source": [
    "esc50_path = \"./ESC-50-master\"\n",
    "\n",
    "data, labels = load_esc50_data(esc50_path)\n",
    "\n",
    "split_ratio = 0.8\n",
    "split_idx = int(len(data) * split_ratio)\n",
    "\n",
    "train_data, train_labels = data[:split_idx], labels[:split_idx]\n",
    "test_data, test_labels = data[split_idx:], labels[split_idx:]\n",
    "\n",
    "train_dataset = ESC50Dataset(train_data, train_labels)\n",
    "train_dataloader = DataLoader(train_dataset, batch_size, shuffle=True)\n",
    "\n",
    "test_dataset = ESC50Dataset(test_data, test_labels)\n",
    "test_dataloader = DataLoader(test_dataset, batch_size, shuffle=False)"
   ]
  },
  {
   "cell_type": "code",
   "execution_count": 8,
   "metadata": {
    "tags": []
   },
   "outputs": [],
   "source": [
    "optimizer = torch.optim.Adam(model.parameters(), lr=learning_rate)\n",
    "criterion = nn.CrossEntropyLoss()"
   ]
  },
  {
   "cell_type": "code",
   "execution_count": 9,
   "metadata": {
    "tags": []
   },
   "outputs": [
    {
     "name": "stdout",
     "output_type": "stream",
     "text": [
      "Epoch 1/35, Loss: 3.3013, Test Accuracy: 0.0675\n",
      "Epoch 2/35, Loss: 3.2468, Test Accuracy: 0.0550\n",
      "Epoch 3/35, Loss: 3.0744, Test Accuracy: 0.1375\n",
      "Epoch 4/35, Loss: 2.9996, Test Accuracy: 0.1475\n",
      "Epoch 5/35, Loss: 3.1119, Test Accuracy: 0.2050\n",
      "Epoch 6/35, Loss: 2.5650, Test Accuracy: 0.1975\n",
      "Epoch 7/35, Loss: 2.3747, Test Accuracy: 0.2700\n",
      "Epoch 8/35, Loss: 1.9242, Test Accuracy: 0.2100\n",
      "Epoch 9/35, Loss: 1.8662, Test Accuracy: 0.2025\n",
      "Epoch 10/35, Loss: 2.4055, Test Accuracy: 0.2525\n",
      "Epoch 11/35, Loss: 2.6771, Test Accuracy: 0.2425\n",
      "Epoch 12/35, Loss: 2.0656, Test Accuracy: 0.2675\n",
      "Epoch 13/35, Loss: 1.4134, Test Accuracy: 0.2250\n",
      "Epoch 14/35, Loss: 1.7206, Test Accuracy: 0.3100\n",
      "Epoch 15/35, Loss: 1.9509, Test Accuracy: 0.2350\n",
      "Epoch 16/35, Loss: 1.2457, Test Accuracy: 0.3350\n",
      "Epoch 17/35, Loss: 1.1802, Test Accuracy: 0.3275\n",
      "Epoch 18/35, Loss: 1.4648, Test Accuracy: 0.3775\n",
      "Epoch 19/35, Loss: 1.6516, Test Accuracy: 0.3525\n",
      "Epoch 20/35, Loss: 1.7162, Test Accuracy: 0.2450\n",
      "Epoch 21/35, Loss: 1.9048, Test Accuracy: 0.3100\n",
      "Epoch 22/35, Loss: 1.7206, Test Accuracy: 0.3425\n",
      "Epoch 23/35, Loss: 1.6898, Test Accuracy: 0.4625\n",
      "Epoch 24/35, Loss: 1.5638, Test Accuracy: 0.3075\n",
      "Epoch 25/35, Loss: 1.1233, Test Accuracy: 0.2150\n",
      "Epoch 26/35, Loss: 1.3194, Test Accuracy: 0.3900\n",
      "Epoch 27/35, Loss: 1.2251, Test Accuracy: 0.3975\n",
      "Epoch 28/35, Loss: 1.5047, Test Accuracy: 0.4150\n",
      "Epoch 29/35, Loss: 1.0696, Test Accuracy: 0.3325\n",
      "Epoch 30/35, Loss: 1.4838, Test Accuracy: 0.3975\n",
      "Epoch 31/35, Loss: 1.1282, Test Accuracy: 0.3100\n",
      "Epoch 32/35, Loss: 1.0286, Test Accuracy: 0.4175\n",
      "Epoch 33/35, Loss: 1.0919, Test Accuracy: 0.4650\n",
      "Epoch 34/35, Loss: 1.3462, Test Accuracy: 0.3800\n",
      "Epoch 35/35, Loss: 1.7511, Test Accuracy: 0.4200\n"
     ]
    }
   ],
   "source": [
    "for epoch in range(num_epochs):\n",
    "    model.train()\n",
    "    for inputs, labels in train_dataloader:\n",
    "        optimizer.zero_grad()\n",
    "        outputs = model(inputs.to(device))\n",
    "        loss = criterion(outputs.to(device), labels.to(device))\n",
    "        loss.backward()\n",
    "        optimizer.step()\n",
    "\n",
    "    model.eval()\n",
    "    correct = 0\n",
    "    total = 0\n",
    "    with torch.no_grad():\n",
    "        for inputs, labels in test_dataloader:\n",
    "            outputs = model(inputs.to(device))\n",
    "            _, predicted = torch.max(outputs.data, 1)\n",
    "            total += labels.size(0)\n",
    "            correct += (predicted == labels.to(device)).sum().item()\n",
    "\n",
    "    accuracy = correct / total\n",
    "    print(f'Epoch {epoch+1}/{num_epochs}, Loss: {loss.item():.4f}, Test Accuracy: {accuracy:.4f}')\n",
    "\n",
    "torch.save(model.state_dict(), 'audio_cnn_model.pth')"
   ]
  },
  {
   "cell_type": "code",
   "execution_count": 31,
   "metadata": {},
   "outputs": [
    {
     "name": "stdout",
     "output_type": "stream",
     "text": [
      "Epoch 1/5, Loss: 0.3217, Test Accuracy: 0.6225\n",
      "Epoch 2/5, Loss: 0.8038, Test Accuracy: 0.6100\n",
      "Epoch 3/5, Loss: 0.9560, Test Accuracy: 0.6325\n",
      "Epoch 4/5, Loss: 0.8010, Test Accuracy: 0.6250\n",
      "Epoch 5/5, Loss: 0.1838, Test Accuracy: 0.6350\n"
     ]
    }
   ],
   "source": [
    "model = AudioCNN(\n",
    "    num_classes=50,\n",
    "    conv1_channels=128,\n",
    "    conv2_channels=256,\n",
    "    fc1_out_features=256,\n",
    "    num_residual_blocks=3\n",
    ")\n",
    "\n",
    "model.load_state_dict(torch.load('2_audio_cnn_model_finetuned.pth'))\n",
    "device = torch.device(\"cuda\" if torch.cuda.is_available() else \"cpu\")\n",
    "model.to(device)\n",
    "\n",
    "criterion = nn.CrossEntropyLoss()\n",
    "optimizer = torch.optim.Adam(model.parameters(), lr=0.0001)\n",
    "\n",
    "num_epochs = 5\n",
    "\n",
    "for epoch in range(num_epochs):\n",
    "    model.train()\n",
    "    for inputs, labels in train_dataloader:\n",
    "        optimizer.zero_grad()\n",
    "        outputs = model(inputs.to(device))\n",
    "        loss = criterion(outputs.to(device), labels.to(device))\n",
    "        loss.backward()\n",
    "        optimizer.step()\n",
    "\n",
    "    torch.save(model.state_dict(), f'audio_cnn_model_epoch_{epoch+1}.pth')\n",
    "\n",
    "    model.eval()\n",
    "    correct = 0\n",
    "    total = 0\n",
    "    with torch.no_grad():\n",
    "        for inputs, labels in test_dataloader:\n",
    "            outputs = model(inputs.to(device))\n",
    "            _, predicted = torch.max(outputs.data, 1)\n",
    "            total += labels.size(0)\n",
    "            correct += (predicted == labels.to(device)).sum().item()\n",
    "\n",
    "    accuracy = correct / total\n",
    "    print(f'Epoch {epoch+1}/{num_epochs}, Loss: {loss.item():.4f}, Test Accuracy: {accuracy:.4f}')\n",
    "\n",
    "torch.save(model.state_dict(), 'audio_cnn_model_final.pth')"
   ]
  },
  {
   "cell_type": "code",
   "execution_count": 7,
   "metadata": {},
   "outputs": [],
   "source": [
    "class_index_to_name = {\n",
    "    0: 'airplane',\n",
    "    1: 'breathing',\n",
    "    2: 'brushing_teeth',\n",
    "    3: 'can_opening',\n",
    "    4: 'car_horn',\n",
    "    5: 'cat',\n",
    "    6: 'chainsaw',\n",
    "    7: 'chirping_birds',\n",
    "    8: 'church_bells',\n",
    "    9: 'clapping',\n",
    "    10: 'clock_alarm',\n",
    "    11: 'clock_tick',\n",
    "    12: 'coughing',\n",
    "    13: 'cow',\n",
    "    14: 'crackling_fire',\n",
    "    15: 'crickets',\n",
    "    16: 'crow',\n",
    "    17: 'crying_baby',\n",
    "    18: 'dog',\n",
    "    19: 'door_wood_creaks',\n",
    "    20: 'door_wood_knock',\n",
    "    21: 'drinking_sipping',\n",
    "    22: 'engine',\n",
    "    23: 'fireworks',\n",
    "    24: 'footsteps',\n",
    "    25: 'frog',\n",
    "    26: 'glass_breaking',\n",
    "    27: 'hand_saw',\n",
    "    28: 'helicopter',\n",
    "    29: 'hen',\n",
    "    30: 'insects',\n",
    "    31: 'keyboard_typing',\n",
    "    32: 'laughing',\n",
    "    33: 'mouse_click',\n",
    "    34: 'pig',\n",
    "    35: 'pouring_water',\n",
    "    36: 'rain',\n",
    "    37: 'rooster',\n",
    "    38: 'sea_waves',\n",
    "    39: 'sheep',\n",
    "    40: 'siren',\n",
    "    41: 'sneezing',\n",
    "    42: 'snoring',\n",
    "    43: 'thunderstorm',\n",
    "    44: 'toilet_flush',\n",
    "    45: 'train',\n",
    "    46: 'vacuum_cleaner',\n",
    "    47: 'washing_machine',\n",
    "    48: 'water_drops',\n",
    "    49: 'wind'\n",
    "}\n"
   ]
  },
  {
   "cell_type": "code",
   "execution_count": null,
   "metadata": {},
   "outputs": [],
   "source": [
    "import torch\n",
    "from torchvision import transforms\n",
    "from scipy.io import wavfile\n",
    "import numpy as np\n",
    "\n",
    "def preprocess_audio(file_path):\n",
    "    audio_data, _ = librosa.load(file_path, sr=None)\n",
    "    mel_spec = librosa.feature.melspectrogram(y=audio_data, sr=44100)\n",
    "    mel_spec_db = librosa.power_to_db(mel_spec, ref=np.max)\n",
    "\n",
    "    mel_spec_db = torch.tensor(mel_spec_db, dtype=torch.float32)\n",
    "    mel_spec_db = mel_spec_db.unsqueeze(0).unsqueeze(0)\n",
    "    \n",
    "    return mel_spec_db\n",
    "\n",
    "model = AudioCNN(\n",
    "    num_classes=50,\n",
    "    conv1_channels=128,\n",
    "    conv2_channels=256,\n",
    "    fc1_out_features=256,\n",
    "    num_residual_blocks=3\n",
    ")\n",
    "\n",
    "model.load_state_dict(torch.load('audio_cnn_model_final.pth'))\n",
    "\n",
    "model.eval()\n",
    "\n",
    "audio_file_path = './1-32318-A-0.wav'\n",
    "\n",
    "with torch.no_grad():\n",
    "    input_data = preprocess_audio(audio_file_path)\n",
    "    output_probs = model(input_data)\n",
    "\n",
    "predicted_class_index = torch.argmax(output_probs).item()\n",
    "\n",
    "predicted_class_name = class_index_to_name.get(predicted_class_index, \"Unknown\")\n",
    "\n",
    "print(f\"The predicted class is: {predicted_class_name}\")"
   ]
  }
 ],
 "metadata": {
  "kernelspec": {
   "display_name": "Python 3 (ipykernel)",
   "language": "python",
   "name": "python3"
  },
  "language_info": {
   "codemirror_mode": {
    "name": "ipython",
    "version": 3
   },
   "file_extension": ".py",
   "mimetype": "text/x-python",
   "name": "python",
   "nbconvert_exporter": "python",
   "pygments_lexer": "ipython3",
   "version": "3.11.5"
  }
 },
 "nbformat": 4,
 "nbformat_minor": 4
}
